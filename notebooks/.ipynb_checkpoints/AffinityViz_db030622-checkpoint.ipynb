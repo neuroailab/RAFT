{
 "cells": [
  {
   "cell_type": "code",
   "execution_count": 1,
   "id": "b3f2f50d",
   "metadata": {},
   "outputs": [],
   "source": [
    "import os\n",
    "os.environ['CUDA_VISIBLE_DEVICES'] = '6'"
   ]
  },
  {
   "cell_type": "code",
   "execution_count": 2,
   "id": "c57e53ba",
   "metadata": {},
   "outputs": [],
   "source": [
    "import numpy as np\n",
    "import torch\n",
    "import torch.nn as nn\n",
    "import torch.nn.functional as F\n",
    "from torchvision import transforms\n",
    "\n",
    "import matplotlib.pyplot as plt\n",
    "import cv2\n",
    "from PIL import Image\n",
    "\n",
    "%load_ext autoreload\n",
    "%autoreload 2"
   ]
  },
  {
   "cell_type": "code",
   "execution_count": 8,
   "id": "52f2601c",
   "metadata": {},
   "outputs": [
    {
     "name": "stderr",
     "output_type": "stream",
     "text": [
      "/home/dbear/tenv/lib/python3.7/site-packages/ipykernel/ipkernel.py:283: DeprecationWarning: `should_run_async` will not call `transform_cell` automatically in the future. Please pass the result to `transformed_cell` argument and any exception that happen during thetransform in `preprocessing_exc_tuple` in IPython 7.17 and above.\n",
      "  and should_run_async(code)\n"
     ]
    }
   ],
   "source": [
    "import sys\n",
    "sys.path.append('../')\n",
    "sys.path.append('../core')\n",
    "\n",
    "from raft import RAFT\n",
    "from train import get_args, load_model\n",
    "import datasets as raft_datasets\n",
    "import utils.flow_viz as flow_viz\n",
    "\n",
    "def set_args(args_dict={}):\n",
    "    args = get_args(\"\")\n",
    "    for k,v in args_dict.items():\n",
    "        args.__setattr__(k, v)\n",
    "    return args\n",
    "\n",
    "def tensor_to_arr(tensor, ex=0):\n",
    "    if len(tensor.shape) == 4:\n",
    "        tensor = tensor[ex]\n",
    "    return tensor.detach().permute(1, 2, 0).cpu().numpy()\n",
    "\n",
    "def viz(tensor, ex=0):\n",
    "    im = tensor_to_arr(tensor, ex)\n",
    "    if im.max() > 2.0:\n",
    "        im = im / 255.0\n",
    "    plt.imshow(im)\n",
    "    \n",
    "def downsample_affinities(affs, size, downsample_factor=2):\n",
    "    affs = affs.view(1, size[0]*size[1], size[0], size[1])\n",
    "    ds = downsample_factor\n",
    "    N = size[0]*size[1]\n",
    "    N_out = N // (ds**2)\n",
    "    affs = F.avg_pool2d(affs, kernel_size=[ds,ds], stride=ds)\n",
    "    affs = affs.view(1,size[0],size[1],-1).permute(0,3,1,2)\n",
    "    affs = F.avg_pool2d(affs, kernel_size=[ds,ds], stride=ds)\n",
    "    affs = affs.view(1,N_out,N_out).transpose(1,2)\n",
    "    return affs    \n",
    "\n",
    "\n",
    "def rowmax_norm(x):\n",
    "    return x / x.max(-1, True)[0]\n",
    "    "
   ]
  },
  {
   "cell_type": "markdown",
   "id": "8286d62c",
   "metadata": {},
   "source": [
    "## Load some affinities"
   ]
  },
  {
   "cell_type": "code",
   "execution_count": 4,
   "id": "fbf829d9",
   "metadata": {},
   "outputs": [
    {
     "name": "stdout",
     "output_type": "stream",
     "text": [
      "20\n"
     ]
    },
    {
     "name": "stderr",
     "output_type": "stream",
     "text": [
      "/home/dbear/tenv/lib/python3.7/site-packages/ipykernel/ipkernel.py:283: DeprecationWarning: `should_run_async` will not call `transform_cell` automatically in the future. Please pass the result to `transformed_cell` argument and any exception that happen during thetransform in `preprocessing_exc_tuple` in IPython 7.17 and above.\n",
      "  and should_run_async(code)\n"
     ]
    }
   ],
   "source": [
    "## load some affinities\n",
    "import glob\n",
    "# aff_path = '/mnt/fs6/honglinc/save_data/save_tdw_affinities'\n",
    "# aff_path = '/mnt/fs6/honglinc/save_data/tdw_raft_64_affinities'\n",
    "# aff_path = '/mnt/fs6/honglinc/eccv_2022_results/TDW_EISEN_RAFT'\n",
    "aff_path = '/mnt/fs6/honglinc/eccv_2022_results/TDW_Safari_EISEN_RAFT'\n",
    "\n",
    "saved_affinities = sorted(glob.glob(aff_path + '/*'))\n",
    "print(len(saved_affinities))"
   ]
  },
  {
   "cell_type": "code",
   "execution_count": 5,
   "id": "bb20d68c",
   "metadata": {},
   "outputs": [
    {
     "name": "stderr",
     "output_type": "stream",
     "text": [
      "/home/dbear/tenv/lib/python3.7/site-packages/ipykernel/ipkernel.py:283: DeprecationWarning: `should_run_async` will not call `transform_cell` automatically in the future. Please pass the result to `transformed_cell` argument and any exception that happen during thetransform in `preprocessing_exc_tuple` in IPython 7.17 and above.\n",
      "  and should_run_async(code)\n"
     ]
    }
   ],
   "source": [
    "ex = 0 \n",
    "data = torch.load(os.path.join(aff_path, saved_affinities[ex]))\n",
    "affinities = data['affinities'].cuda()"
   ]
  },
  {
   "cell_type": "code",
   "execution_count": 34,
   "id": "488be722",
   "metadata": {},
   "outputs": [
    {
     "name": "stdout",
     "output_type": "stream",
     "text": [
      "tensor(0., device='cuda:0') tensor(1., device='cuda:0')\n"
     ]
    },
    {
     "name": "stderr",
     "output_type": "stream",
     "text": [
      "/home/dbear/tenv/lib/python3.7/site-packages/ipykernel/ipkernel.py:283: DeprecationWarning: `should_run_async` will not call `transform_cell` automatically in the future. Please pass the result to `transformed_cell` argument and any exception that happen during thetransform in `preprocessing_exc_tuple` in IPython 7.17 and above.\n",
      "  and should_run_async(code)\n"
     ]
    },
    {
     "data": {
      "image/png": "[encoded data removed]",
      "text/plain": [
       "<Figure size 432x288 with 1 Axes>"
      ]
     },
     "metadata": {
      "needs_background": "light"
     },
     "output_type": "display_data"
    }
   ],
   "source": [
    "import matplotlib.cm as cm\n",
    "\n",
    "size = [128,128]\n",
    "h,w = 20,40\n",
    "node = h*size[0] + w\n",
    "\n",
    "aff_node = rowmax_norm(affinities)[:,node].view(1, *size)\n",
    "print(aff_node.amin(), aff_node.amax())\n",
    "plt.imshow(aff_node[0].detach().cpu().numpy(), cmap='magma', vmax=0.05)\n",
    "plt.show()"
   ]
  },
  {
   "cell_type": "code",
   "execution_count": 10,
   "id": "6ab539ab",
   "metadata": {},
   "outputs": [
    {
     "name": "stderr",
     "output_type": "stream",
     "text": [
      "/home/dbear/tenv/lib/python3.7/site-packages/ipykernel/ipkernel.py:283: DeprecationWarning: `should_run_async` will not call `transform_cell` automatically in the future. Please pass the result to `transformed_cell` argument and any exception that happen during thetransform in `preprocessing_exc_tuple` in IPython 7.17 and above.\n",
      "  and should_run_async(code)\n"
     ]
    },
    {
     "data": {
      "text/plain": [
       "torch.Size([1, 16384, 16384])"
      ]
     },
     "execution_count": 10,
     "metadata": {},
     "output_type": "execute_result"
    }
   ],
   "source": [
    "cm.magma"
   ]
  },
  {
   "cell_type": "code",
   "execution_count": null,
   "id": "92e4d5cc",
   "metadata": {},
   "outputs": [],
   "source": []
  }
 ],
 "metadata": {
  "kernelspec": {
   "display_name": "Python 3",
   "language": "python",
   "name": "python3"
  },
  "language_info": {
   "codemirror_mode": {
    "name": "ipython",
    "version": 3
   },
   "file_extension": ".py",
   "mimetype": "text/x-python",
   "name": "python",
   "nbconvert_exporter": "python",
   "pygments_lexer": "ipython3",
   "version": "3.7.5"
  }
 },
 "nbformat": 4,
 "nbformat_minor": 5
}
