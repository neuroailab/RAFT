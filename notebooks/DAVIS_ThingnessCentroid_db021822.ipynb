{
 "cells": [
  {
   "cell_type": "code",
   "execution_count": 1,
   "id": "fec5d79e",
   "metadata": {},
   "outputs": [],
   "source": [
    "import os\n",
    "os.environ['CUDA_VISIBLE_DEVICES'] = '3'"
   ]
  },
  {
   "cell_type": "code",
   "execution_count": 2,
   "id": "62cc38a7",
   "metadata": {},
   "outputs": [],
   "source": [
    "import numpy as np\n",
    "import torch\n",
    "import torch.nn as nn\n",
    "import torch.nn.functional as F\n",
    "from torchvision import transforms\n",
    "\n",
    "import matplotlib.pyplot as plt\n",
    "import cv2\n",
    "from PIL import Image\n",
    "\n",
    "%load_ext autoreload\n",
    "%autoreload 2"
   ]
  },
  {
   "cell_type": "code",
   "execution_count": 5,
   "id": "57a6f2ce",
   "metadata": {},
   "outputs": [
    {
     "name": "stderr",
     "output_type": "stream",
     "text": [
      "/home/dbear/tenv/lib/python3.7/site-packages/ipykernel/ipkernel.py:283: DeprecationWarning: `should_run_async` will not call `transform_cell` automatically in the future. Please pass the result to `transformed_cell` argument and any exception that happen during thetransform in `preprocessing_exc_tuple` in IPython 7.17 and above.\n",
      "  and should_run_async(code)\n"
     ]
    }
   ],
   "source": [
    "import sys\n",
    "sys.path.append('../')\n",
    "sys.path.append('../core')\n",
    "\n",
    "from raft import RAFT\n",
    "from train import get_args, load_model, ForegroundMaskTarget, CentroidMaskTarget\n",
    "import datasets as raft_datasets\n",
    "import utils.flow_viz as flow_viz\n",
    "\n",
    "def set_args(args_dict={}):\n",
    "    args = get_args(\"\")\n",
    "    for k,v in args_dict.items():\n",
    "        args.__setattr__(k, v)\n",
    "    return args\n",
    "\n",
    "def tensor_to_arr(tensor, ex=0):\n",
    "    if len(tensor.shape) == 4:\n",
    "        tensor = tensor[ex]\n",
    "    return tensor.detach().permute(1, 2, 0).cpu().numpy()\n",
    "\n",
    "def viz(tensor, ex=0):\n",
    "    im = tensor_to_arr(tensor, ex)\n",
    "    if im.max() > 2.0:\n",
    "        im = im / 255.0\n",
    "    plt.imshow(im)\n",
    "    "
   ]
  },
  {
   "cell_type": "markdown",
   "id": "a56ada75",
   "metadata": {},
   "source": [
    "## Davis Dataset"
   ]
  },
  {
   "cell_type": "code",
   "execution_count": 6,
   "id": "c34f542d",
   "metadata": {},
   "outputs": [
    {
     "name": "stdout",
     "output_type": "stream",
     "text": [
      "odict_keys(['bear', 'blackswan', 'bmx-bumps', 'bmx-trees', 'boat', 'breakdance', 'breakdance-flare', 'bus', 'camel', 'car-roundabout', 'car-shadow', 'car-turn', 'cows', 'dance-jump', 'dance-twirl', 'dog', 'dog-agility', 'drift-chicane', 'drift-straight', 'drift-turn', 'elephant', 'flamingo', 'goat', 'hike', 'hockey', 'horsejump-high', 'horsejump-low', 'kite-surf', 'kite-walk', 'libby', 'lucia', 'mallard-fly', 'mallard-water', 'motocross-bumps', 'motocross-jump', 'motorbike', 'paragliding', 'paragliding-launch', 'parkour', 'rhino', 'rollerblade', 'scooter-black', 'scooter-gray', 'soapbox', 'soccerball', 'stroller', 'surf', 'swing', 'tennis', 'train'])\n"
     ]
    },
    {
     "name": "stderr",
     "output_type": "stream",
     "text": [
      "/home/dbear/tenv/lib/python3.7/site-packages/ipykernel/ipkernel.py:283: DeprecationWarning: `should_run_async` will not call `transform_cell` automatically in the future. Please pass the result to `transformed_cell` argument and any exception that happen during thetransform in `preprocessing_exc_tuple` in IPython 7.17 and above.\n",
      "  and should_run_async(code)\n"
     ]
    }
   ],
   "source": [
    "dataset = raft_datasets.DavisFlowDataset(\n",
    "    get_gt_flow=True, split='all', resize=(270, 480), flow_gap=1, \n",
    "    min_start_frame=0, max_start_frame=None,\n",
    "    get_segments=True,\n",
    "    get_flow_images=True\n",
    ")"
   ]
  },
  {
   "cell_type": "markdown",
   "id": "6c3999ae",
   "metadata": {},
   "source": [
    "## Target model for subtracting flow background"
   ]
  },
  {
   "cell_type": "code",
   "execution_count": 7,
   "id": "4cc412d2",
   "metadata": {},
   "outputs": [
    {
     "name": "stderr",
     "output_type": "stream",
     "text": [
      "/home/dbear/tenv/lib/python3.7/site-packages/ipykernel/ipkernel.py:283: DeprecationWarning: `should_run_async` will not call `transform_cell` automatically in the future. Please pass the result to `transformed_cell` argument and any exception that happen during thetransform in `preprocessing_exc_tuple` in IPython 7.17 and above.\n",
      "  and should_run_async(code)\n"
     ]
    }
   ],
   "source": [
    "target_net = nn.DataParallel(ForegroundMaskTarget(\n",
    "    resolution=8,\n",
    "    num_masks=32,\n",
    "    get_connected_component=True,\n",
    "    mask_input=False)).cuda()"
   ]
  },
  {
   "cell_type": "code",
   "execution_count": 8,
   "id": "47e9d2d4",
   "metadata": {},
   "outputs": [
    {
     "name": "stderr",
     "output_type": "stream",
     "text": [
      "/home/dbear/tenv/lib/python3.7/site-packages/ipykernel/ipkernel.py:283: DeprecationWarning: `should_run_async` will not call `transform_cell` automatically in the future. Please pass the result to `transformed_cell` argument and any exception that happen during thetransform in `preprocessing_exc_tuple` in IPython 7.17 and above.\n",
      "  and should_run_async(code)\n"
     ]
    }
   ],
   "source": [
    "ex = 'elephant'\n",
    "data_blob = dataset[ex]\n",
    "image1, image2, flow = [x[None].cuda() for x in data_blob]"
   ]
  },
  {
   "cell_type": "code",
   "execution_count": 12,
   "id": "eaf3349c",
   "metadata": {},
   "outputs": [
    {
     "name": "stderr",
     "output_type": "stream",
     "text": [
      "/home/dbear/tenv/lib/python3.7/site-packages/ipykernel/ipkernel.py:283: DeprecationWarning: `should_run_async` will not call `transform_cell` automatically in the future. Please pass the result to `transformed_cell` argument and any exception that happen during thetransform in `preprocessing_exc_tuple` in IPython 7.17 and above.\n",
      "  and should_run_async(code)\n",
      "/home/dbear/tenv/lib/python3.7/site-packages/torch/nn/functional.py:718: UserWarning: Named tensors and all their associated APIs are an experimental feature and subject to change. Please do not use them for anything important until they are released as stable. (Triggered internally at  /pytorch/c10/core/TensorImpl.h:1156.)\n",
      "  return torch.max_pool2d(input, kernel_size, stride, padding, dilation, ceil_mode)\n"
     ]
    }
   ],
   "source": [
    "mask = target_net(flow)"
   ]
  },
  {
   "cell_type": "code",
   "execution_count": 13,
   "id": "c66843f8",
   "metadata": {},
   "outputs": [
    {
     "name": "stderr",
     "output_type": "stream",
     "text": [
      "/home/dbear/tenv/lib/python3.7/site-packages/ipykernel/ipkernel.py:283: DeprecationWarning: `should_run_async` will not call `transform_cell` automatically in the future. Please pass the result to `transformed_cell` argument and any exception that happen during thetransform in `preprocessing_exc_tuple` in IPython 7.17 and above.\n",
      "  and should_run_async(code)\n"
     ]
    },
    {
     "data": {
      "text/plain": [
       "torch.Size([1, 1, 264, 480])"
      ]
     },
     "execution_count": 13,
     "metadata": {},
     "output_type": "execute_result"
    }
   ],
   "source": [
    "mask.shape"
   ]
  },
  {
   "cell_type": "code",
   "execution_count": 14,
   "id": "4e03131c",
   "metadata": {},
   "outputs": [
    {
     "name": "stderr",
     "output_type": "stream",
     "text": [
      "/home/dbear/tenv/lib/python3.7/site-packages/ipykernel/ipkernel.py:283: DeprecationWarning: `should_run_async` will not call `transform_cell` automatically in the future. Please pass the result to `transformed_cell` argument and any exception that happen during thetransform in `preprocessing_exc_tuple` in IPython 7.17 and above.\n",
      "  and should_run_async(code)\n"
     ]
    },
    {
     "data": {
      "image/png": "[encoded data removed]",
      "text/plain": [
       "<Figure size 432x288 with 1 Axes>"
      ]
     },
     "metadata": {
      "needs_background": "light"
     },
     "output_type": "display_data"
    }
   ],
   "source": [
    "viz(mask)"
   ]
  },
  {
   "cell_type": "code",
   "execution_count": 15,
   "id": "0b71e009",
   "metadata": {},
   "outputs": [
    {
     "name": "stderr",
     "output_type": "stream",
     "text": [
      "/home/dbear/tenv/lib/python3.7/site-packages/ipykernel/ipkernel.py:283: DeprecationWarning: `should_run_async` will not call `transform_cell` automatically in the future. Please pass the result to `transformed_cell` argument and any exception that happen during thetransform in `preprocessing_exc_tuple` in IPython 7.17 and above.\n",
      "  and should_run_async(code)\n"
     ]
    },
    {
     "data": {
      "image/png": "[encoded data removed]",
      "text/plain": [
       "<Figure size 432x288 with 1 Axes>"
      ]
     },
     "metadata": {
      "needs_background": "light"
     },
     "output_type": "display_data"
    }
   ],
   "source": [
    "viz(flow[:,1:2])"
   ]
  },
  {
   "cell_type": "markdown",
   "id": "cedea8ce",
   "metadata": {},
   "source": [
    "## Look at some models"
   ]
  },
  {
   "cell_type": "code",
   "execution_count": 16,
   "id": "7e4101b8",
   "metadata": {},
   "outputs": [
    {
     "name": "stderr",
     "output_type": "stream",
     "text": [
      "/home/dbear/tenv/lib/python3.7/site-packages/ipykernel/ipkernel.py:283: DeprecationWarning: `should_run_async` will not call `transform_cell` automatically in the future. Please pass the result to `transformed_cell` argument and any exception that happen during thetransform in `preprocessing_exc_tuple` in IPython 7.17 and above.\n",
      "  and should_run_async(code)\n"
     ]
    },
    {
     "name": "stdout",
     "output_type": "stream",
     "text": [
      "<All keys matched successfully>\n"
     ]
    }
   ],
   "source": [
    "thing_net = load_model('../checkpoints/90000_thingness-davis-selfsup-ccs-bs4.pth',\n",
    "                 train=True, cuda=True, small=False, freeze_bn=False, gpus=[0])"
   ]
  },
  {
   "cell_type": "code",
   "execution_count": 17,
   "id": "482a813e",
   "metadata": {},
   "outputs": [
    {
     "name": "stderr",
     "output_type": "stream",
     "text": [
      "/home/dbear/tenv/lib/python3.7/site-packages/ipykernel/ipkernel.py:283: DeprecationWarning: `should_run_async` will not call `transform_cell` automatically in the future. Please pass the result to `transformed_cell` argument and any exception that happen during thetransform in `preprocessing_exc_tuple` in IPython 7.17 and above.\n",
      "  and should_run_async(code)\n"
     ]
    },
    {
     "name": "stdout",
     "output_type": "stream",
     "text": [
      "<All keys matched successfully>\n"
     ]
    }
   ],
   "source": [
    "cent_net = load_model('../checkpoints/90000_centroid-davis-selfsup-ccs-bs4.pth',\n",
    "                 train=True, cuda=True, small=False, freeze_bn=False, gpus=[0])"
   ]
  },
  {
   "cell_type": "code",
   "execution_count": 18,
   "id": "3fed6715",
   "metadata": {},
   "outputs": [
    {
     "name": "stderr",
     "output_type": "stream",
     "text": [
      "/home/dbear/tenv/lib/python3.7/site-packages/ipykernel/ipkernel.py:283: DeprecationWarning: `should_run_async` will not call `transform_cell` automatically in the future. Please pass the result to `transformed_cell` argument and any exception that happen during thetransform in `preprocessing_exc_tuple` in IPython 7.17 and above.\n",
      "  and should_run_async(code)\n"
     ]
    }
   ],
   "source": [
    "import bootraft\n",
    "kpnet = bootraft.KpPrior(\n",
    "    cent_net, thing_net, normalize_coordinates=True, randomize_background=True, resolution=8, \n",
    "    thingness_thresh=0.5, norm_p=2.0\n",
    ").cuda()\n",
    "\n",
    "target_net = nn.DataParallel(ForegroundMaskTarget(\n",
    "    resolution=8,\n",
    "    num_masks=32,\n",
    "    get_connected_component=True,\n",
    "    mask_input=False)).cuda()"
   ]
  },
  {
   "cell_type": "code",
   "execution_count": 19,
   "id": "879a944c",
   "metadata": {},
   "outputs": [
    {
     "name": "stdout",
     "output_type": "stream",
     "text": [
      "['bear', 'blackswan', 'bmx-bumps', 'bmx-trees', 'boat', 'breakdance', 'breakdance-flare', 'bus', 'camel', 'car-roundabout', 'car-shadow', 'car-turn', 'cows', 'dance-jump', 'dance-twirl', 'dog', 'dog-agility', 'drift-chicane', 'drift-straight', 'drift-turn', 'elephant', 'flamingo', 'goat', 'hike', 'hockey', 'horsejump-high', 'horsejump-low', 'kite-surf', 'kite-walk', 'libby', 'lucia', 'mallard-fly', 'mallard-water', 'motocross-bumps', 'motocross-jump', 'motorbike', 'paragliding', 'paragliding-launch', 'parkour', 'rhino', 'rollerblade', 'scooter-black', 'scooter-gray', 'soapbox', 'soccerball', 'stroller', 'surf', 'swing', 'tennis', 'train']\n"
     ]
    },
    {
     "name": "stderr",
     "output_type": "stream",
     "text": [
      "/home/dbear/tenv/lib/python3.7/site-packages/ipykernel/ipkernel.py:283: DeprecationWarning: `should_run_async` will not call `transform_cell` automatically in the future. Please pass the result to `transformed_cell` argument and any exception that happen during thetransform in `preprocessing_exc_tuple` in IPython 7.17 and above.\n",
      "  and should_run_async(code)\n"
     ]
    }
   ],
   "source": [
    "from pathlib import Path\n",
    "print([Path(d).name for d in dataset.dataset_names])"
   ]
  },
  {
   "cell_type": "code",
   "execution_count": 31,
   "id": "00e9a434",
   "metadata": {},
   "outputs": [
    {
     "name": "stderr",
     "output_type": "stream",
     "text": [
      "/home/dbear/tenv/lib/python3.7/site-packages/ipykernel/ipkernel.py:283: DeprecationWarning: `should_run_async` will not call `transform_cell` automatically in the future. Please pass the result to `transformed_cell` argument and any exception that happen during thetransform in `preprocessing_exc_tuple` in IPython 7.17 and above.\n",
      "  and should_run_async(code)\n"
     ]
    },
    {
     "data": {
      "text/plain": [
       "Competition()"
      ]
     },
     "execution_count": 31,
     "metadata": {},
     "output_type": "execute_result"
    }
   ],
   "source": [
    "target_net.module.Compete"
   ]
  },
  {
   "cell_type": "code",
   "execution_count": 33,
   "id": "50419631",
   "metadata": {},
   "outputs": [
    {
     "name": "stderr",
     "output_type": "stream",
     "text": [
      "/home/dbear/tenv/lib/python3.7/site-packages/ipykernel/ipkernel.py:283: DeprecationWarning: `should_run_async` will not call `transform_cell` automatically in the future. Please pass the result to `transformed_cell` argument and any exception that happen during thetransform in `preprocessing_exc_tuple` in IPython 7.17 and above.\n",
      "  and should_run_async(code)\n"
     ]
    },
    {
     "data": {
      "text/plain": [
       "torch.Size([1, 64, 264, 480])"
      ]
     },
     "execution_count": 33,
     "metadata": {},
     "output_type": "execute_result"
    }
   ],
   "source": [
    "kp_prior.shape"
   ]
  },
  {
   "cell_type": "code",
   "execution_count": 197,
   "id": "509924cf",
   "metadata": {},
   "outputs": [
    {
     "name": "stderr",
     "output_type": "stream",
     "text": [
      "/home/dbear/tenv/lib/python3.7/site-packages/ipykernel/ipkernel.py:283: DeprecationWarning: `should_run_async` will not call `transform_cell` automatically in the future. Please pass the result to `transformed_cell` argument and any exception that happen during thetransform in `preprocessing_exc_tuple` in IPython 7.17 and above.\n",
      "  and should_run_async(code)\n"
     ]
    },
    {
     "name": "stdout",
     "output_type": "stream",
     "text": [
      "torch.Size([1, 264, 480, 32])\n"
     ]
    },
    {
     "data": {
      "image/png": "[encoded data removed]",
      "text/plain": [
       "<Figure size 1440x288 with 5 Axes>"
      ]
     },
     "metadata": {},
     "output_type": "display_data"
    }
   ],
   "source": [
    "import os\n",
    "save_dir = '/mnt/fs6/dbear/eccv_2022_results/figures/davis_motion'\n",
    "ex = 'elephant'\n",
    "filename = ex + '_' + str(it)\n",
    "\n",
    "do_save = True\n",
    "\n",
    "thresh = 0.5\n",
    "img1, img2, flow = dataset[ex]\n",
    "gt = dataset.gt\n",
    "kp_prior = kpnet(img1.cuda()[None], img1.cuda()[None], test_mode=True)\n",
    "_, thing = thing_net(img1.cuda()[None], img1.cuda()[None], iters=24, test_mode=True)\n",
    "mask = (torch.sigmoid(thing) > thresh).float().detach().cpu().numpy()[0,0]\n",
    "\n",
    "h0 = kp_prior[0].max(-3)[1].detach().cpu().numpy()\n",
    "target = target_net(flow[None].cuda())\n",
    "pred = target_net.module.Compete(kp_prior.permute(0,2,3,1))[0]\n",
    "\n",
    "print(pred.shape)\n",
    "# flow_img = FlowToRgb(max_speed=10.0)(flow)\n",
    "flow_img = flow_viz.flow_to_image(tensor_to_arr(flow))\n",
    "fig, axes = plt.subplots(1,5,figsize=(20,4))\n",
    "axes[0].imshow(tensor_to_arr(img1 / 255.))\n",
    "axes[1].imshow(flow_img)\n",
    "# axes[3].imshow(h0 * (mask[...,None] if len(h0.shape) == 3 else mask), cmap='twilight')\n",
    "axes[2].imshow(tensor_to_arr(target), cmap='magma')\n",
    "axes[3].imshow(mask, cmap='twilight', vmax=2)\n",
    "# axes[3].imshow(pred.argmax(-1)[0].detach().cpu().numpy(), cmap='twilight', vmax=pred.argmax(-1).amax().item()+1)\n",
    "\n",
    "axes[4].imshow(tensor_to_arr(gt))\n",
    "\n",
    "titles = ['image', 'RAFT flow', 'motion segment', 'kp prior (static)', 'gt segment']\n",
    "for i,ax in enumerate(axes):\n",
    "    ax.set_xticks([])\n",
    "    ax.set_yticks([])\n",
    "    if not do_save:\n",
    "        ax.set_title(titles[i], fontsize=20)\n",
    "plt.tight_layout()\n",
    "\n",
    "if do_save:\n",
    "    plt.savefig(os.path.join(save_dir, filename)+'.svg', transparent=True, format='svg')\n",
    "    it += 1\n",
    "plt.show()"
   ]
  },
  {
   "cell_type": "code",
   "execution_count": 54,
   "id": "af39b210",
   "metadata": {},
   "outputs": [
    {
     "name": "stderr",
     "output_type": "stream",
     "text": [
      "/home/dbear/tenv/lib/python3.7/site-packages/ipykernel/ipkernel.py:283: DeprecationWarning: `should_run_async` will not call `transform_cell` automatically in the future. Please pass the result to `transformed_cell` argument and any exception that happen during thetransform in `preprocessing_exc_tuple` in IPython 7.17 and above.\n",
      "  and should_run_async(code)\n"
     ]
    },
    {
     "data": {
      "image/png": "[encoded data removed]",
      "text/plain": [
       "<Figure size 1152x288 with 4 Axes>"
      ]
     },
     "metadata": {},
     "output_type": "display_data"
    }
   ],
   "source": [
    "ex = 'camel'\n",
    "thresh = 0.5\n",
    "img1, img2, flow = dataset[ex]\n",
    "gt = dataset.gt\n",
    "\n",
    "target = target_net(flow[None].cuda())\n",
    "\n",
    "flow_img = flow_viz.flow_to_image(tensor_to_arr(flow))\n",
    "fig, axes = plt.subplots(1,4,figsize=(16,4))\n",
    "axes[0].imshow(tensor_to_arr(img1 / 255.))\n",
    "axes[1].imshow(flow_img)\n",
    "axes[2].imshow(tensor_to_arr(target))\n",
    "axes[3].imshow(tensor_to_arr(gt))\n",
    "\n",
    "titles = ['image', 'RAFT flow', 'motion segment', 'gt segment']\n",
    "for i,ax in enumerate(axes):\n",
    "    ax.set_xticks([])\n",
    "    ax.set_yticks([])\n",
    "    ax.set_title(titles[i], fontsize=20)\n",
    "plt.tight_layout()\n",
    "plt.show()"
   ]
  },
  {
   "cell_type": "markdown",
   "id": "da02d849",
   "metadata": {},
   "source": [
    "## Compute metrics"
   ]
  },
  {
   "cell_type": "code",
   "execution_count": 375,
   "id": "bf9b50ac",
   "metadata": {},
   "outputs": [
    {
     "name": "stderr",
     "output_type": "stream",
     "text": [
      "/home/dbear/tenv/lib/python3.7/site-packages/ipykernel/ipkernel.py:283: DeprecationWarning: `should_run_async` will not call `transform_cell` automatically in the future. Please pass the result to `transformed_cell` argument and any exception that happen during thetransform in `preprocessing_exc_tuple` in IPython 7.17 and above.\n",
      "  and should_run_async(code)\n"
     ]
    }
   ],
   "source": [
    "from tqdm import tqdm\n",
    "from collections import OrderedDict\n",
    "\n",
    "def iou(pred, gt, eps=1e-3):\n",
    "    assert pred.shape == gt.shape, (pred.shape, gt.shape)\n",
    "    pred, gt = (pred > 0.5).float(), (gt > 0.5).float()\n",
    "    intersection = (pred * gt).sum()\n",
    "    union = (pred + gt).clamp(max=1.0).sum()\n",
    "    return (intersection / (union + eps)).item()\n",
    "\n",
    "def get_thingness_iou(net, vid_dataset, ex='camel', size=None, frame = 0, iters=12, thresh=0.5):\n",
    "\n",
    "    if size is not None:\n",
    "        vid_dataset.resize_to = size\n",
    "\n",
    "    vid_dataset.min_start_frame = vid_dataset.max_start_frame = frame\n",
    "    img1, img2, _ = vid_dataset[ex]\n",
    "    gt = vid_dataset.gt[0:1].cuda()\n",
    "    gt = (gt[:,0:1] > 0.5).float()\n",
    "    pred = net(img1[None].cuda(), img1[None].cuda(), iters=iters, test_mode=True)[-1]\n",
    "    pred = (torch.sigmoid(pred) > thresh).float()\n",
    "    \n",
    "    return iou(pred, gt)\n",
    "\n",
    "def get_selfsup_iou(net, vid_dataset, ex='camel', size=None, frame = 0, iters=12, **kwargs):\n",
    "    \n",
    "    if size is not None:\n",
    "        vid_dataset.resize_to = size\n",
    "    vid_dataset.min_start_frame = vid_dataset.max_start_frame = frame\n",
    "    img1, img2, flow = vid_dataset[ex]\n",
    "    gt = vid_dataset.gt[0:1].cuda()\n",
    "    gt = (gt[:,0:1] > 0.5).float()\n",
    "    target = net(flow[None].cuda()).float()\n",
    "    \n",
    "    return iou(target, gt)\n",
    "    \n",
    "def get_sequence_iou(net, vid_dataset, ex='camel',\n",
    "                     eval_func=get_thingness_iou,\n",
    "                     frame_start=0, frame_end=None, \n",
    "                     **kwargs):\n",
    "    \n",
    "    if isinstance(ex, int):\n",
    "        seq_nm = sorted(vid_dataset.files.keys())[ex]\n",
    "    elif ex not in vid_dataset.files.keys():\n",
    "        raise ValueError(\"%s isn't one of the sequences in the %s split\" % (str(ex), vid_dataset.split))\n",
    "    else:\n",
    "        seq_nm = ex\n",
    "    num_frames = len(vid_dataset.files[seq_nm])\n",
    "\n",
    "    frame_ious = OrderedDict()\n",
    "    for frame in tqdm(range(frame_start, frame_end or num_frames)):\n",
    "        frame_ious[frame] = eval_func(net, vid_dataset, ex=seq_nm, frame=frame, **kwargs)\n",
    "        \n",
    "    return frame_ious, np.mean(list(frame_ious.values()))"
   ]
  },
  {
   "cell_type": "code",
   "execution_count": 400,
   "id": "b48dbb36",
   "metadata": {},
   "outputs": [
    {
     "name": "stderr",
     "output_type": "stream",
     "text": [
      "/home/dbear/tenv/lib/python3.7/site-packages/ipykernel/ipkernel.py:283: DeprecationWarning: `should_run_async` will not call `transform_cell` automatically in the future. Please pass the result to `transformed_cell` argument and any exception that happen during thetransform in `preprocessing_exc_tuple` in IPython 7.17 and above.\n",
      "  and should_run_async(code)\n",
      "100%|██████████| 2/2 [00:00<00:00,  3.03it/s]\n"
     ]
    },
    {
     "data": {
      "text/plain": [
       "(OrderedDict([(0, 0.9350228905677795), (1, 0.9364449977874756)]),\n",
       " 0.9357339441776276)"
      ]
     },
     "execution_count": 400,
     "metadata": {},
     "output_type": "execute_result"
    }
   ],
   "source": [
    "# get_selfsup_iou(target_net, dataset, ex='camel', frame=0)\n",
    "get_sequence_iou(target_net, dataset, ex='camel', eval_func=get_selfsup_iou, frame_end=2)"
   ]
  },
  {
   "cell_type": "code",
   "execution_count": 370,
   "id": "c66f0f2a",
   "metadata": {},
   "outputs": [
    {
     "name": "stderr",
     "output_type": "stream",
     "text": [
      "/home/dbear/tenv/lib/python3.7/site-packages/ipykernel/ipkernel.py:283: DeprecationWarning: `should_run_async` will not call `transform_cell` automatically in the future. Please pass the result to `transformed_cell` argument and any exception that happen during thetransform in `preprocessing_exc_tuple` in IPython 7.17 and above.\n",
      "  and should_run_async(code)\n"
     ]
    }
   ],
   "source": [
    "# mean_results = OrderedDict()\n",
    "# per_frame_results = OrderedDict()"
   ]
  },
  {
   "cell_type": "code",
   "execution_count": 401,
   "id": "527fbede",
   "metadata": {},
   "outputs": [
    {
     "name": "stderr",
     "output_type": "stream",
     "text": [
      "/home/dbear/tenv/lib/python3.7/site-packages/ipykernel/ipkernel.py:283: DeprecationWarning: `should_run_async` will not call `transform_cell` automatically in the future. Please pass the result to `transformed_cell` argument and any exception that happen during thetransform in `preprocessing_exc_tuple` in IPython 7.17 and above.\n",
      "  and should_run_async(code)\n"
     ]
    }
   ],
   "source": [
    "# mean_target_results = OrderedDict()\n",
    "# per_frame_target_results = OrderedDict()"
   ]
  },
  {
   "cell_type": "code",
   "execution_count": 404,
   "id": "3094a569",
   "metadata": {
    "scrolled": true
   },
   "outputs": [
    {
     "name": "stderr",
     "output_type": "stream",
     "text": [
      "/home/dbear/tenv/lib/python3.7/site-packages/ipykernel/ipkernel.py:283: DeprecationWarning: `should_run_async` will not call `transform_cell` automatically in the future. Please pass the result to `transformed_cell` argument and any exception that happen during thetransform in `preprocessing_exc_tuple` in IPython 7.17 and above.\n",
      "  and should_run_async(code)\n",
      "100%|██████████| 82/82 [00:26<00:00,  3.08it/s]\n",
      "  0%|          | 0/50 [00:00<?, ?it/s]"
     ]
    },
    {
     "name": "stdout",
     "output_type": "stream",
     "text": [
      "bear mean iou across 82 frames ---- 0.311\n"
     ]
    },
    {
     "name": "stderr",
     "output_type": "stream",
     "text": [
      "100%|██████████| 50/50 [00:15<00:00,  3.19it/s]\n",
      "  0%|          | 0/90 [00:00<?, ?it/s]"
     ]
    },
    {
     "name": "stdout",
     "output_type": "stream",
     "text": [
      "blackswan mean iou across 50 frames ---- 0.238\n"
     ]
    },
    {
     "name": "stderr",
     "output_type": "stream",
     "text": [
      "100%|██████████| 90/90 [00:28<00:00,  3.20it/s]\n",
      "  0%|          | 0/80 [00:00<?, ?it/s]"
     ]
    },
    {
     "name": "stdout",
     "output_type": "stream",
     "text": [
      "bmx-bumps mean iou across 90 frames ---- 0.233\n"
     ]
    },
    {
     "name": "stderr",
     "output_type": "stream",
     "text": [
      "100%|██████████| 80/80 [00:25<00:00,  3.20it/s]\n",
      "  0%|          | 0/75 [00:00<?, ?it/s]"
     ]
    },
    {
     "name": "stdout",
     "output_type": "stream",
     "text": [
      "bmx-trees mean iou across 80 frames ---- 0.335\n"
     ]
    },
    {
     "name": "stderr",
     "output_type": "stream",
     "text": [
      "100%|██████████| 75/75 [00:23<00:00,  3.20it/s]\n",
      "  0%|          | 0/84 [00:00<?, ?it/s]"
     ]
    },
    {
     "name": "stdout",
     "output_type": "stream",
     "text": [
      "boat mean iou across 75 frames ---- 0.053\n"
     ]
    },
    {
     "name": "stderr",
     "output_type": "stream",
     "text": [
      "100%|██████████| 84/84 [00:26<00:00,  3.19it/s]\n",
      "  0%|          | 0/71 [00:00<?, ?it/s]"
     ]
    },
    {
     "name": "stdout",
     "output_type": "stream",
     "text": [
      "breakdance mean iou across 84 frames ---- 0.652\n"
     ]
    },
    {
     "name": "stderr",
     "output_type": "stream",
     "text": [
      "100%|██████████| 71/71 [00:22<00:00,  3.19it/s]\n",
      "  0%|          | 0/80 [00:00<?, ?it/s]"
     ]
    },
    {
     "name": "stdout",
     "output_type": "stream",
     "text": [
      "breakdance-flare mean iou across 71 frames ---- 0.623\n"
     ]
    },
    {
     "name": "stderr",
     "output_type": "stream",
     "text": [
      "100%|██████████| 80/80 [00:24<00:00,  3.22it/s]\n",
      "  0%|          | 0/90 [00:00<?, ?it/s]"
     ]
    },
    {
     "name": "stdout",
     "output_type": "stream",
     "text": [
      "bus mean iou across 80 frames ---- 0.468\n"
     ]
    },
    {
     "name": "stderr",
     "output_type": "stream",
     "text": [
      "100%|██████████| 90/90 [00:29<00:00,  3.04it/s]\n",
      "  0%|          | 0/75 [00:00<?, ?it/s]"
     ]
    },
    {
     "name": "stdout",
     "output_type": "stream",
     "text": [
      "camel mean iou across 90 frames ---- 0.772\n"
     ]
    },
    {
     "name": "stderr",
     "output_type": "stream",
     "text": [
      "100%|██████████| 75/75 [00:22<00:00,  3.37it/s]\n",
      "  0%|          | 0/40 [00:00<?, ?it/s]"
     ]
    },
    {
     "name": "stdout",
     "output_type": "stream",
     "text": [
      "car-roundabout mean iou across 75 frames ---- 0.627\n"
     ]
    },
    {
     "name": "stderr",
     "output_type": "stream",
     "text": [
      "100%|██████████| 40/40 [00:12<00:00,  3.22it/s]\n",
      "  0%|          | 0/80 [00:00<?, ?it/s]"
     ]
    },
    {
     "name": "stdout",
     "output_type": "stream",
     "text": [
      "car-shadow mean iou across 40 frames ---- 0.355\n"
     ]
    },
    {
     "name": "stderr",
     "output_type": "stream",
     "text": [
      "100%|██████████| 80/80 [00:25<00:00,  3.19it/s]\n",
      "  0%|          | 0/104 [00:00<?, ?it/s]"
     ]
    },
    {
     "name": "stdout",
     "output_type": "stream",
     "text": [
      "car-turn mean iou across 80 frames ---- 0.378\n"
     ]
    },
    {
     "name": "stderr",
     "output_type": "stream",
     "text": [
      "100%|██████████| 104/104 [00:31<00:00,  3.26it/s]\n",
      "  0%|          | 0/60 [00:00<?, ?it/s]"
     ]
    },
    {
     "name": "stdout",
     "output_type": "stream",
     "text": [
      "cows mean iou across 104 frames ---- 0.565\n"
     ]
    },
    {
     "name": "stderr",
     "output_type": "stream",
     "text": [
      "100%|██████████| 60/60 [00:18<00:00,  3.19it/s]\n",
      "  0%|          | 0/90 [00:00<?, ?it/s]"
     ]
    },
    {
     "name": "stdout",
     "output_type": "stream",
     "text": [
      "dance-jump mean iou across 60 frames ---- 0.484\n"
     ]
    },
    {
     "name": "stderr",
     "output_type": "stream",
     "text": [
      "100%|██████████| 90/90 [00:28<00:00,  3.20it/s]\n",
      "  0%|          | 0/60 [00:00<?, ?it/s]"
     ]
    },
    {
     "name": "stdout",
     "output_type": "stream",
     "text": [
      "dance-twirl mean iou across 90 frames ---- 0.554\n"
     ]
    },
    {
     "name": "stderr",
     "output_type": "stream",
     "text": [
      "100%|██████████| 60/60 [00:18<00:00,  3.26it/s]\n",
      "  0%|          | 0/25 [00:00<?, ?it/s]"
     ]
    },
    {
     "name": "stdout",
     "output_type": "stream",
     "text": [
      "dog mean iou across 60 frames ---- 0.209\n"
     ]
    },
    {
     "name": "stderr",
     "output_type": "stream",
     "text": [
      "100%|██████████| 25/25 [00:07<00:00,  3.23it/s]\n",
      "  0%|          | 0/52 [00:00<?, ?it/s]"
     ]
    },
    {
     "name": "stdout",
     "output_type": "stream",
     "text": [
      "dog-agility mean iou across 25 frames ---- 0.288\n"
     ]
    },
    {
     "name": "stderr",
     "output_type": "stream",
     "text": [
      "100%|██████████| 52/52 [00:15<00:00,  3.27it/s]\n",
      "  0%|          | 0/50 [00:00<?, ?it/s]"
     ]
    },
    {
     "name": "stdout",
     "output_type": "stream",
     "text": [
      "drift-chicane mean iou across 52 frames ---- 0.574\n"
     ]
    },
    {
     "name": "stderr",
     "output_type": "stream",
     "text": [
      "100%|██████████| 50/50 [00:15<00:00,  3.15it/s]\n",
      "  0%|          | 0/64 [00:00<?, ?it/s]"
     ]
    },
    {
     "name": "stdout",
     "output_type": "stream",
     "text": [
      "drift-straight mean iou across 50 frames ---- 0.196\n"
     ]
    },
    {
     "name": "stderr",
     "output_type": "stream",
     "text": [
      "100%|██████████| 64/64 [00:19<00:00,  3.27it/s]\n",
      "  0%|          | 0/80 [00:00<?, ?it/s]"
     ]
    },
    {
     "name": "stdout",
     "output_type": "stream",
     "text": [
      "drift-turn mean iou across 64 frames ---- 0.444\n"
     ]
    },
    {
     "name": "stderr",
     "output_type": "stream",
     "text": [
      "100%|██████████| 80/80 [00:25<00:00,  3.20it/s]\n",
      "  0%|          | 0/80 [00:00<?, ?it/s]"
     ]
    },
    {
     "name": "stdout",
     "output_type": "stream",
     "text": [
      "elephant mean iou across 80 frames ---- 0.524\n"
     ]
    },
    {
     "name": "stderr",
     "output_type": "stream",
     "text": [
      "100%|██████████| 80/80 [00:25<00:00,  3.17it/s]\n",
      "  0%|          | 0/90 [00:00<?, ?it/s]"
     ]
    },
    {
     "name": "stdout",
     "output_type": "stream",
     "text": [
      "flamingo mean iou across 80 frames ---- 0.361\n"
     ]
    },
    {
     "name": "stderr",
     "output_type": "stream",
     "text": [
      "100%|██████████| 90/90 [00:28<00:00,  3.17it/s]\n",
      "  0%|          | 0/80 [00:00<?, ?it/s]"
     ]
    },
    {
     "name": "stdout",
     "output_type": "stream",
     "text": [
      "goat mean iou across 90 frames ---- 0.100\n"
     ]
    },
    {
     "name": "stderr",
     "output_type": "stream",
     "text": [
      "100%|██████████| 80/80 [00:26<00:00,  3.04it/s]\n",
      "  0%|          | 0/75 [00:00<?, ?it/s]"
     ]
    },
    {
     "name": "stdout",
     "output_type": "stream",
     "text": [
      "hike mean iou across 80 frames ---- 0.402\n"
     ]
    },
    {
     "name": "stderr",
     "output_type": "stream",
     "text": [
      "100%|██████████| 75/75 [00:20<00:00,  3.57it/s]\n",
      "  0%|          | 0/50 [00:00<?, ?it/s]"
     ]
    },
    {
     "name": "stdout",
     "output_type": "stream",
     "text": [
      "hockey mean iou across 75 frames ---- 0.479\n"
     ]
    },
    {
     "name": "stderr",
     "output_type": "stream",
     "text": [
      "100%|██████████| 50/50 [00:13<00:00,  3.59it/s]\n",
      "  0%|          | 0/60 [00:00<?, ?it/s]"
     ]
    },
    {
     "name": "stdout",
     "output_type": "stream",
     "text": [
      "horsejump-high mean iou across 50 frames ---- 0.503\n"
     ]
    },
    {
     "name": "stderr",
     "output_type": "stream",
     "text": [
      "100%|██████████| 60/60 [00:17<00:00,  3.45it/s]\n",
      "  0%|          | 0/50 [00:00<?, ?it/s]"
     ]
    },
    {
     "name": "stdout",
     "output_type": "stream",
     "text": [
      "horsejump-low mean iou across 60 frames ---- 0.611\n"
     ]
    },
    {
     "name": "stderr",
     "output_type": "stream",
     "text": [
      "100%|██████████| 50/50 [00:13<00:00,  3.65it/s]\n",
      "  0%|          | 0/80 [00:00<?, ?it/s]"
     ]
    },
    {
     "name": "stdout",
     "output_type": "stream",
     "text": [
      "kite-surf mean iou across 50 frames ---- 0.159\n"
     ]
    },
    {
     "name": "stderr",
     "output_type": "stream",
     "text": [
      "100%|██████████| 80/80 [00:22<00:00,  3.53it/s]\n",
      "  0%|          | 0/49 [00:00<?, ?it/s]"
     ]
    },
    {
     "name": "stdout",
     "output_type": "stream",
     "text": [
      "kite-walk mean iou across 80 frames ---- 0.419\n"
     ]
    },
    {
     "name": "stderr",
     "output_type": "stream",
     "text": [
      "100%|██████████| 49/49 [00:14<00:00,  3.44it/s]\n",
      "  0%|          | 0/70 [00:00<?, ?it/s]"
     ]
    },
    {
     "name": "stdout",
     "output_type": "stream",
     "text": [
      "libby mean iou across 49 frames ---- 0.135\n"
     ]
    },
    {
     "name": "stderr",
     "output_type": "stream",
     "text": [
      "100%|██████████| 70/70 [00:20<00:00,  3.49it/s]\n",
      "  0%|          | 0/70 [00:00<?, ?it/s]"
     ]
    },
    {
     "name": "stdout",
     "output_type": "stream",
     "text": [
      "lucia mean iou across 70 frames ---- 0.603\n"
     ]
    },
    {
     "name": "stderr",
     "output_type": "stream",
     "text": [
      "100%|██████████| 70/70 [00:19<00:00,  3.51it/s]\n",
      "  0%|          | 0/80 [00:00<?, ?it/s]"
     ]
    },
    {
     "name": "stdout",
     "output_type": "stream",
     "text": [
      "mallard-fly mean iou across 70 frames ---- 0.366\n"
     ]
    },
    {
     "name": "stderr",
     "output_type": "stream",
     "text": [
      "100%|██████████| 80/80 [00:23<00:00,  3.46it/s]\n",
      "  0%|          | 0/60 [00:00<?, ?it/s]"
     ]
    },
    {
     "name": "stdout",
     "output_type": "stream",
     "text": [
      "mallard-water mean iou across 80 frames ---- 0.065\n"
     ]
    },
    {
     "name": "stderr",
     "output_type": "stream",
     "text": [
      "100%|██████████| 60/60 [00:17<00:00,  3.48it/s]\n",
      "  0%|          | 0/40 [00:00<?, ?it/s]"
     ]
    },
    {
     "name": "stdout",
     "output_type": "stream",
     "text": [
      "motocross-bumps mean iou across 60 frames ---- 0.627\n"
     ]
    },
    {
     "name": "stderr",
     "output_type": "stream",
     "text": [
      "100%|██████████| 40/40 [00:11<00:00,  3.54it/s]\n",
      "  0%|          | 0/43 [00:00<?, ?it/s]"
     ]
    },
    {
     "name": "stdout",
     "output_type": "stream",
     "text": [
      "motocross-jump mean iou across 40 frames ---- 0.543\n"
     ]
    },
    {
     "name": "stderr",
     "output_type": "stream",
     "text": [
      "100%|██████████| 43/43 [00:12<00:00,  3.54it/s]\n",
      "  0%|          | 0/70 [00:00<?, ?it/s]"
     ]
    },
    {
     "name": "stdout",
     "output_type": "stream",
     "text": [
      "motorbike mean iou across 43 frames ---- 0.211\n"
     ]
    },
    {
     "name": "stderr",
     "output_type": "stream",
     "text": [
      "100%|██████████| 70/70 [00:20<00:00,  3.47it/s]\n",
      "  0%|          | 0/80 [00:00<?, ?it/s]"
     ]
    },
    {
     "name": "stdout",
     "output_type": "stream",
     "text": [
      "paragliding mean iou across 70 frames ---- 0.525\n"
     ]
    },
    {
     "name": "stderr",
     "output_type": "stream",
     "text": [
      "100%|██████████| 80/80 [00:22<00:00,  3.51it/s]\n",
      "  0%|          | 0/100 [00:00<?, ?it/s]"
     ]
    },
    {
     "name": "stdout",
     "output_type": "stream",
     "text": [
      "paragliding-launch mean iou across 80 frames ---- 0.489\n"
     ]
    },
    {
     "name": "stderr",
     "output_type": "stream",
     "text": [
      "100%|██████████| 100/100 [00:28<00:00,  3.50it/s]\n",
      "  0%|          | 0/90 [00:00<?, ?it/s]"
     ]
    },
    {
     "name": "stdout",
     "output_type": "stream",
     "text": [
      "parkour mean iou across 100 frames ---- 0.306\n"
     ]
    },
    {
     "name": "stderr",
     "output_type": "stream",
     "text": [
      "100%|██████████| 90/90 [00:25<00:00,  3.51it/s]\n",
      "  0%|          | 0/35 [00:00<?, ?it/s]"
     ]
    },
    {
     "name": "stdout",
     "output_type": "stream",
     "text": [
      "rhino mean iou across 90 frames ---- 0.650\n"
     ]
    },
    {
     "name": "stderr",
     "output_type": "stream",
     "text": [
      "100%|██████████| 35/35 [00:09<00:00,  3.51it/s]\n",
      "  0%|          | 0/43 [00:00<?, ?it/s]"
     ]
    },
    {
     "name": "stdout",
     "output_type": "stream",
     "text": [
      "rollerblade mean iou across 35 frames ---- 0.544\n"
     ]
    },
    {
     "name": "stderr",
     "output_type": "stream",
     "text": [
      "100%|██████████| 43/43 [00:12<00:00,  3.42it/s]\n",
      "  0%|          | 0/75 [00:00<?, ?it/s]"
     ]
    },
    {
     "name": "stdout",
     "output_type": "stream",
     "text": [
      "scooter-black mean iou across 43 frames ---- 0.312\n"
     ]
    },
    {
     "name": "stderr",
     "output_type": "stream",
     "text": [
      "100%|██████████| 75/75 [00:21<00:00,  3.53it/s]\n",
      "  0%|          | 0/99 [00:00<?, ?it/s]"
     ]
    },
    {
     "name": "stdout",
     "output_type": "stream",
     "text": [
      "scooter-gray mean iou across 75 frames ---- 0.328\n"
     ]
    },
    {
     "name": "stderr",
     "output_type": "stream",
     "text": [
      "100%|██████████| 99/99 [00:28<00:00,  3.53it/s]\n",
      "  0%|          | 0/48 [00:00<?, ?it/s]"
     ]
    },
    {
     "name": "stdout",
     "output_type": "stream",
     "text": [
      "soapbox mean iou across 99 frames ---- 0.392\n"
     ]
    },
    {
     "name": "stderr",
     "output_type": "stream",
     "text": [
      "100%|██████████| 48/48 [00:13<00:00,  3.55it/s]\n",
      "  0%|          | 0/91 [00:00<?, ?it/s]"
     ]
    },
    {
     "name": "stdout",
     "output_type": "stream",
     "text": [
      "soccerball mean iou across 48 frames ---- 0.875\n"
     ]
    },
    {
     "name": "stderr",
     "output_type": "stream",
     "text": [
      "100%|██████████| 91/91 [00:26<00:00,  3.49it/s]\n",
      "  0%|          | 0/55 [00:00<?, ?it/s]"
     ]
    },
    {
     "name": "stdout",
     "output_type": "stream",
     "text": [
      "stroller mean iou across 91 frames ---- 0.180\n"
     ]
    },
    {
     "name": "stderr",
     "output_type": "stream",
     "text": [
      "100%|██████████| 55/55 [00:15<00:00,  3.55it/s]\n",
      "  0%|          | 0/60 [00:00<?, ?it/s]"
     ]
    },
    {
     "name": "stdout",
     "output_type": "stream",
     "text": [
      "surf mean iou across 55 frames ---- 0.273\n"
     ]
    },
    {
     "name": "stderr",
     "output_type": "stream",
     "text": [
      "100%|██████████| 60/60 [00:17<00:00,  3.52it/s]\n",
      "  0%|          | 0/70 [00:00<?, ?it/s]"
     ]
    },
    {
     "name": "stdout",
     "output_type": "stream",
     "text": [
      "swing mean iou across 60 frames ---- 0.452\n"
     ]
    },
    {
     "name": "stderr",
     "output_type": "stream",
     "text": [
      "100%|██████████| 70/70 [00:20<00:00,  3.47it/s]\n",
      "  0%|          | 0/80 [00:00<?, ?it/s]"
     ]
    },
    {
     "name": "stdout",
     "output_type": "stream",
     "text": [
      "tennis mean iou across 70 frames ---- 0.681\n"
     ]
    },
    {
     "name": "stderr",
     "output_type": "stream",
     "text": [
      "100%|██████████| 80/80 [00:22<00:00,  3.51it/s]"
     ]
    },
    {
     "name": "stdout",
     "output_type": "stream",
     "text": [
      "train mean iou across 80 frames ---- 0.346\n"
     ]
    },
    {
     "name": "stderr",
     "output_type": "stream",
     "text": [
      "\n"
     ]
    }
   ],
   "source": [
    "for seq_nm in dataset.files.keys():\n",
    "    if seq_nm in mean_target_results.keys():\n",
    "        print(\"skipping %s, already done\" % seq_nm)\n",
    "        continue\n",
    "    ious, mean_iou = get_sequence_iou(target_net, dataset, ex=seq_nm, frame_start=0, frame_end=None,\n",
    "                                      eval_func=get_selfsup_iou\n",
    "                                     )\n",
    "    mean_target_results[seq_nm] = mean_iou\n",
    "    per_frame_target_results[seq_nm] = ious\n",
    "    print(\"%s mean iou across %d frames ---- %.3f\" % (seq_nm, len(list(ious.keys())), mean_iou))"
   ]
  },
  {
   "cell_type": "code",
   "execution_count": 374,
   "id": "e9423c3f",
   "metadata": {},
   "outputs": [
    {
     "name": "stderr",
     "output_type": "stream",
     "text": [
      "/home/dbear/tenv/lib/python3.7/site-packages/ipykernel/ipkernel.py:283: DeprecationWarning: `should_run_async` will not call `transform_cell` automatically in the future. Please pass the result to `transformed_cell` argument and any exception that happen during thetransform in `preprocessing_exc_tuple` in IPython 7.17 and above.\n",
      "  and should_run_async(code)\n",
      "  2%|▏         | 1/50 [00:00<00:09,  5.28it/s]"
     ]
    },
    {
     "name": "stdout",
     "output_type": "stream",
     "text": [
      "skipping bear, already done\n"
     ]
    },
    {
     "name": "stderr",
     "output_type": "stream",
     "text": [
      "100%|██████████| 50/50 [00:06<00:00,  8.18it/s]\n",
      "  1%|          | 1/90 [00:00<00:12,  7.22it/s]"
     ]
    },
    {
     "name": "stdout",
     "output_type": "stream",
     "text": [
      "blackswan mean iou across 50 frames ---- 0.281\n"
     ]
    },
    {
     "name": "stderr",
     "output_type": "stream",
     "text": [
      "100%|██████████| 90/90 [00:11<00:00,  7.69it/s]\n",
      "  1%|▏         | 1/80 [00:00<00:08,  8.95it/s]"
     ]
    },
    {
     "name": "stdout",
     "output_type": "stream",
     "text": [
      "bmx-bumps mean iou across 90 frames ---- 0.422\n"
     ]
    },
    {
     "name": "stderr",
     "output_type": "stream",
     "text": [
      "100%|██████████| 80/80 [00:10<00:00,  7.70it/s]\n",
      "  3%|▎         | 2/75 [00:00<00:07, 10.34it/s]"
     ]
    },
    {
     "name": "stdout",
     "output_type": "stream",
     "text": [
      "bmx-trees mean iou across 80 frames ---- 0.314\n"
     ]
    },
    {
     "name": "stderr",
     "output_type": "stream",
     "text": [
      "100%|██████████| 75/75 [00:09<00:00,  7.83it/s]\n",
      "  1%|          | 1/84 [00:00<00:13,  6.35it/s]"
     ]
    },
    {
     "name": "stdout",
     "output_type": "stream",
     "text": [
      "boat mean iou across 75 frames ---- 0.031\n"
     ]
    },
    {
     "name": "stderr",
     "output_type": "stream",
     "text": [
      "100%|██████████| 84/84 [00:10<00:00,  8.19it/s]\n",
      "  1%|▏         | 1/71 [00:00<00:09,  7.08it/s]"
     ]
    },
    {
     "name": "stdout",
     "output_type": "stream",
     "text": [
      "breakdance mean iou across 84 frames ---- 0.626\n"
     ]
    },
    {
     "name": "stderr",
     "output_type": "stream",
     "text": [
      "100%|██████████| 71/71 [00:08<00:00,  7.94it/s]\n",
      "  1%|▏         | 1/80 [00:00<00:10,  7.76it/s]"
     ]
    },
    {
     "name": "stdout",
     "output_type": "stream",
     "text": [
      "breakdance-flare mean iou across 71 frames ---- 0.628\n"
     ]
    },
    {
     "name": "stderr",
     "output_type": "stream",
     "text": [
      "100%|██████████| 80/80 [00:10<00:00,  7.83it/s]\n",
      "  1%|▏         | 1/75 [00:00<00:10,  6.97it/s]"
     ]
    },
    {
     "name": "stdout",
     "output_type": "stream",
     "text": [
      "bus mean iou across 80 frames ---- 0.738\n",
      "skipping camel, already done\n"
     ]
    },
    {
     "name": "stderr",
     "output_type": "stream",
     "text": [
      "100%|██████████| 75/75 [00:10<00:00,  7.34it/s]\n",
      "  1%|▏         | 1/80 [00:00<00:09,  8.61it/s]"
     ]
    },
    {
     "name": "stdout",
     "output_type": "stream",
     "text": [
      "car-roundabout mean iou across 75 frames ---- 0.706\n",
      "skipping car-shadow, already done\n"
     ]
    },
    {
     "name": "stderr",
     "output_type": "stream",
     "text": [
      "100%|██████████| 80/80 [00:10<00:00,  7.56it/s]\n",
      "  2%|▏         | 1/60 [00:00<00:08,  6.97it/s]"
     ]
    },
    {
     "name": "stdout",
     "output_type": "stream",
     "text": [
      "car-turn mean iou across 80 frames ---- 0.615\n",
      "skipping cows, already done\n"
     ]
    },
    {
     "name": "stderr",
     "output_type": "stream",
     "text": [
      "100%|██████████| 60/60 [00:07<00:00,  7.63it/s]\n",
      "  1%|          | 1/90 [00:00<00:14,  6.26it/s]"
     ]
    },
    {
     "name": "stdout",
     "output_type": "stream",
     "text": [
      "dance-jump mean iou across 60 frames ---- 0.557\n"
     ]
    },
    {
     "name": "stderr",
     "output_type": "stream",
     "text": [
      "100%|██████████| 90/90 [00:11<00:00,  7.78it/s]\n",
      "  2%|▏         | 1/60 [00:00<00:06,  9.17it/s]"
     ]
    },
    {
     "name": "stdout",
     "output_type": "stream",
     "text": [
      "dance-twirl mean iou across 90 frames ---- 0.555\n"
     ]
    },
    {
     "name": "stderr",
     "output_type": "stream",
     "text": [
      "100%|██████████| 60/60 [00:07<00:00,  7.71it/s]\n",
      "  4%|▍         | 1/25 [00:00<00:02,  8.84it/s]"
     ]
    },
    {
     "name": "stdout",
     "output_type": "stream",
     "text": [
      "dog mean iou across 60 frames ---- 0.283\n"
     ]
    },
    {
     "name": "stderr",
     "output_type": "stream",
     "text": [
      "100%|██████████| 25/25 [00:03<00:00,  7.38it/s]\n",
      "  2%|▏         | 1/52 [00:00<00:07,  6.50it/s]"
     ]
    },
    {
     "name": "stdout",
     "output_type": "stream",
     "text": [
      "dog-agility mean iou across 25 frames ---- 0.182\n"
     ]
    },
    {
     "name": "stderr",
     "output_type": "stream",
     "text": [
      "100%|██████████| 52/52 [00:06<00:00,  8.35it/s]\n",
      "  4%|▍         | 2/50 [00:00<00:04, 11.30it/s]"
     ]
    },
    {
     "name": "stdout",
     "output_type": "stream",
     "text": [
      "drift-chicane mean iou across 52 frames ---- 0.678\n"
     ]
    },
    {
     "name": "stderr",
     "output_type": "stream",
     "text": [
      "100%|██████████| 50/50 [00:06<00:00,  8.29it/s]\n",
      "  2%|▏         | 1/64 [00:00<00:11,  5.44it/s]"
     ]
    },
    {
     "name": "stdout",
     "output_type": "stream",
     "text": [
      "drift-straight mean iou across 50 frames ---- 0.186\n"
     ]
    },
    {
     "name": "stderr",
     "output_type": "stream",
     "text": [
      "100%|██████████| 64/64 [00:08<00:00,  7.82it/s]\n",
      "  1%|▏         | 1/80 [00:00<00:09,  7.95it/s]"
     ]
    },
    {
     "name": "stdout",
     "output_type": "stream",
     "text": [
      "drift-turn mean iou across 64 frames ---- 0.546\n"
     ]
    },
    {
     "name": "stderr",
     "output_type": "stream",
     "text": [
      "100%|██████████| 80/80 [00:10<00:00,  7.41it/s]\n",
      "  1%|▏         | 1/80 [00:00<00:12,  6.33it/s]"
     ]
    },
    {
     "name": "stdout",
     "output_type": "stream",
     "text": [
      "elephant mean iou across 80 frames ---- 0.653\n"
     ]
    },
    {
     "name": "stderr",
     "output_type": "stream",
     "text": [
      "100%|██████████| 80/80 [00:10<00:00,  7.46it/s]\n",
      "  1%|          | 1/90 [00:00<00:09,  9.22it/s]"
     ]
    },
    {
     "name": "stdout",
     "output_type": "stream",
     "text": [
      "flamingo mean iou across 80 frames ---- 0.589\n"
     ]
    },
    {
     "name": "stderr",
     "output_type": "stream",
     "text": [
      "100%|██████████| 90/90 [00:11<00:00,  7.56it/s]\n",
      "  1%|▏         | 1/80 [00:00<00:08,  9.05it/s]"
     ]
    },
    {
     "name": "stdout",
     "output_type": "stream",
     "text": [
      "goat mean iou across 90 frames ---- 0.137\n"
     ]
    },
    {
     "name": "stderr",
     "output_type": "stream",
     "text": [
      "100%|██████████| 80/80 [00:10<00:00,  7.71it/s]\n",
      "  1%|▏         | 1/75 [00:00<00:10,  6.96it/s]"
     ]
    },
    {
     "name": "stdout",
     "output_type": "stream",
     "text": [
      "hike mean iou across 80 frames ---- 0.569\n"
     ]
    },
    {
     "name": "stderr",
     "output_type": "stream",
     "text": [
      "100%|██████████| 75/75 [00:09<00:00,  7.70it/s]\n",
      "  2%|▏         | 1/50 [00:00<00:06,  7.03it/s]"
     ]
    },
    {
     "name": "stdout",
     "output_type": "stream",
     "text": [
      "hockey mean iou across 75 frames ---- 0.601\n"
     ]
    },
    {
     "name": "stderr",
     "output_type": "stream",
     "text": [
      "100%|██████████| 50/50 [00:06<00:00,  8.17it/s]\n",
      "  0%|          | 0/60 [00:00<?, ?it/s]"
     ]
    },
    {
     "name": "stdout",
     "output_type": "stream",
     "text": [
      "horsejump-high mean iou across 50 frames ---- 0.727\n"
     ]
    },
    {
     "name": "stderr",
     "output_type": "stream",
     "text": [
      "100%|██████████| 60/60 [00:07<00:00,  7.96it/s]\n",
      "  2%|▏         | 1/50 [00:00<00:07,  6.58it/s]"
     ]
    },
    {
     "name": "stdout",
     "output_type": "stream",
     "text": [
      "horsejump-low mean iou across 60 frames ---- 0.724\n"
     ]
    },
    {
     "name": "stderr",
     "output_type": "stream",
     "text": [
      "100%|██████████| 50/50 [00:06<00:00,  7.72it/s]\n",
      "  1%|▏         | 1/80 [00:00<00:11,  7.14it/s]"
     ]
    },
    {
     "name": "stdout",
     "output_type": "stream",
     "text": [
      "kite-surf mean iou across 50 frames ---- 0.300\n"
     ]
    },
    {
     "name": "stderr",
     "output_type": "stream",
     "text": [
      "100%|██████████| 80/80 [00:09<00:00,  8.33it/s]\n",
      "  2%|▏         | 1/49 [00:00<00:06,  7.60it/s]"
     ]
    },
    {
     "name": "stdout",
     "output_type": "stream",
     "text": [
      "kite-walk mean iou across 80 frames ---- 0.555\n"
     ]
    },
    {
     "name": "stderr",
     "output_type": "stream",
     "text": [
      "100%|██████████| 49/49 [00:06<00:00,  7.64it/s]\n",
      "  1%|▏         | 1/70 [00:00<00:10,  6.58it/s]"
     ]
    },
    {
     "name": "stdout",
     "output_type": "stream",
     "text": [
      "libby mean iou across 49 frames ---- 0.222\n",
      "skipping lucia, already done\n"
     ]
    },
    {
     "name": "stderr",
     "output_type": "stream",
     "text": [
      "100%|██████████| 70/70 [00:09<00:00,  7.65it/s]\n",
      "  1%|▏         | 1/80 [00:00<00:11,  6.59it/s]"
     ]
    },
    {
     "name": "stdout",
     "output_type": "stream",
     "text": [
      "mallard-fly mean iou across 70 frames ---- 0.469\n"
     ]
    },
    {
     "name": "stderr",
     "output_type": "stream",
     "text": [
      "100%|██████████| 80/80 [00:09<00:00,  8.04it/s]\n",
      "  3%|▎         | 2/60 [00:00<00:05, 10.65it/s]"
     ]
    },
    {
     "name": "stdout",
     "output_type": "stream",
     "text": [
      "mallard-water mean iou across 80 frames ---- 0.069\n"
     ]
    },
    {
     "name": "stderr",
     "output_type": "stream",
     "text": [
      "100%|██████████| 60/60 [00:07<00:00,  8.08it/s]\n",
      "  2%|▎         | 1/40 [00:00<00:05,  7.33it/s]"
     ]
    },
    {
     "name": "stdout",
     "output_type": "stream",
     "text": [
      "motocross-bumps mean iou across 60 frames ---- 0.687\n"
     ]
    },
    {
     "name": "stderr",
     "output_type": "stream",
     "text": [
      "100%|██████████| 40/40 [00:04<00:00,  8.10it/s]\n",
      "  0%|          | 0/43 [00:00<?, ?it/s]"
     ]
    },
    {
     "name": "stdout",
     "output_type": "stream",
     "text": [
      "motocross-jump mean iou across 40 frames ---- 0.607\n"
     ]
    },
    {
     "name": "stderr",
     "output_type": "stream",
     "text": [
      "100%|██████████| 43/43 [00:05<00:00,  8.03it/s]\n",
      "  0%|          | 0/70 [00:00<?, ?it/s]"
     ]
    },
    {
     "name": "stdout",
     "output_type": "stream",
     "text": [
      "motorbike mean iou across 43 frames ---- 0.392\n"
     ]
    },
    {
     "name": "stderr",
     "output_type": "stream",
     "text": [
      "100%|██████████| 70/70 [00:08<00:00,  7.84it/s]\n",
      "  1%|▏         | 1/80 [00:00<00:11,  6.96it/s]"
     ]
    },
    {
     "name": "stdout",
     "output_type": "stream",
     "text": [
      "paragliding mean iou across 70 frames ---- 0.783\n"
     ]
    },
    {
     "name": "stderr",
     "output_type": "stream",
     "text": [
      "100%|██████████| 80/80 [00:10<00:00,  7.69it/s]\n",
      "  1%|          | 1/100 [00:00<00:13,  7.59it/s]"
     ]
    },
    {
     "name": "stdout",
     "output_type": "stream",
     "text": [
      "paragliding-launch mean iou across 80 frames ---- 0.582\n"
     ]
    },
    {
     "name": "stderr",
     "output_type": "stream",
     "text": [
      "100%|██████████| 100/100 [00:13<00:00,  7.65it/s]\n",
      "  3%|▎         | 1/35 [00:00<00:03,  9.21it/s]"
     ]
    },
    {
     "name": "stdout",
     "output_type": "stream",
     "text": [
      "parkour mean iou across 100 frames ---- 0.252\n",
      "skipping rhino, already done\n"
     ]
    },
    {
     "name": "stderr",
     "output_type": "stream",
     "text": [
      "100%|██████████| 35/35 [00:03<00:00,  8.99it/s]\n",
      "  2%|▏         | 1/43 [00:00<00:06,  6.71it/s]"
     ]
    },
    {
     "name": "stdout",
     "output_type": "stream",
     "text": [
      "rollerblade mean iou across 35 frames ---- 0.748\n"
     ]
    },
    {
     "name": "stderr",
     "output_type": "stream",
     "text": [
      "100%|██████████| 43/43 [00:05<00:00,  8.03it/s]\n",
      "  1%|▏         | 1/75 [00:00<00:11,  6.47it/s]"
     ]
    },
    {
     "name": "stdout",
     "output_type": "stream",
     "text": [
      "scooter-black mean iou across 43 frames ---- 0.491\n"
     ]
    },
    {
     "name": "stderr",
     "output_type": "stream",
     "text": [
      "100%|██████████| 75/75 [00:09<00:00,  8.09it/s]\n",
      "  1%|          | 1/99 [00:00<00:16,  6.00it/s]"
     ]
    },
    {
     "name": "stdout",
     "output_type": "stream",
     "text": [
      "scooter-gray mean iou across 75 frames ---- 0.418\n"
     ]
    },
    {
     "name": "stderr",
     "output_type": "stream",
     "text": [
      "100%|██████████| 99/99 [00:13<00:00,  7.59it/s]\n",
      "  2%|▏         | 1/48 [00:00<00:07,  6.51it/s]"
     ]
    },
    {
     "name": "stdout",
     "output_type": "stream",
     "text": [
      "soapbox mean iou across 99 frames ---- 0.575\n"
     ]
    },
    {
     "name": "stderr",
     "output_type": "stream",
     "text": [
      "100%|██████████| 48/48 [00:05<00:00,  8.06it/s]\n",
      "  1%|          | 1/91 [00:00<00:14,  6.11it/s]"
     ]
    },
    {
     "name": "stdout",
     "output_type": "stream",
     "text": [
      "soccerball mean iou across 48 frames ---- 0.836\n"
     ]
    },
    {
     "name": "stderr",
     "output_type": "stream",
     "text": [
      "100%|██████████| 91/91 [00:11<00:00,  8.14it/s]\n",
      "  4%|▎         | 2/55 [00:00<00:04, 11.25it/s]"
     ]
    },
    {
     "name": "stdout",
     "output_type": "stream",
     "text": [
      "stroller mean iou across 91 frames ---- 0.174\n"
     ]
    },
    {
     "name": "stderr",
     "output_type": "stream",
     "text": [
      "100%|██████████| 55/55 [00:06<00:00,  8.54it/s]\n",
      "  2%|▏         | 1/60 [00:00<00:09,  6.44it/s]"
     ]
    },
    {
     "name": "stdout",
     "output_type": "stream",
     "text": [
      "surf mean iou across 55 frames ---- 0.349\n"
     ]
    },
    {
     "name": "stderr",
     "output_type": "stream",
     "text": [
      "100%|██████████| 60/60 [00:07<00:00,  8.55it/s]\n",
      "  1%|▏         | 1/70 [00:00<00:09,  6.99it/s]"
     ]
    },
    {
     "name": "stdout",
     "output_type": "stream",
     "text": [
      "swing mean iou across 60 frames ---- 0.762\n"
     ]
    },
    {
     "name": "stderr",
     "output_type": "stream",
     "text": [
      "100%|██████████| 70/70 [00:08<00:00,  8.30it/s]\n",
      "  1%|▏         | 1/80 [00:00<00:10,  7.62it/s]"
     ]
    },
    {
     "name": "stdout",
     "output_type": "stream",
     "text": [
      "tennis mean iou across 70 frames ---- 0.721\n"
     ]
    },
    {
     "name": "stderr",
     "output_type": "stream",
     "text": [
      "100%|██████████| 80/80 [00:10<00:00,  7.66it/s]"
     ]
    },
    {
     "name": "stdout",
     "output_type": "stream",
     "text": [
      "train mean iou across 80 frames ---- 0.397\n"
     ]
    },
    {
     "name": "stderr",
     "output_type": "stream",
     "text": [
      "\n"
     ]
    }
   ],
   "source": [
    "for seq_nm in dataset.files.keys():\n",
    "    if seq_nm in mean_results.keys():\n",
    "        print(\"skipping %s, already done\" % seq_nm)\n",
    "        continue\n",
    "    ious, mean_iou = get_sequence_iou(thing_net, dataset, ex=seq_nm, frame_start=0, frame_end=None)\n",
    "    mean_results[seq_nm] = mean_iou\n",
    "    per_frame_results[seq_nm] = ious\n",
    "    print(\"%s mean iou across %d frames ---- %.3f\" % (seq_nm, len(list(ious.keys())), mean_iou))"
   ]
  },
  {
   "cell_type": "code",
   "execution_count": 395,
   "id": "0f9fe14a",
   "metadata": {},
   "outputs": [
    {
     "name": "stdout",
     "output_type": "stream",
     "text": [
      "===== TRAIN SEQUENCE RESULTS =====\n",
      "bear ---------------- 0.159\n",
      "bmx-bumps ----------- 0.422\n",
      "boat ---------------- 0.031\n",
      "breakdance-flare ---- 0.628\n",
      "bus ----------------- 0.738\n",
      "car-turn ------------ 0.615\n",
      "dance-jump ---------- 0.557\n",
      "dog-agility --------- 0.182\n",
      "drift-turn ---------- 0.546\n",
      "elephant ------------ 0.653\n",
      "flamingo ------------ 0.589\n",
      "hike ---------------- 0.569\n",
      "hockey -------------- 0.601\n",
      "horsejump-low ------- 0.724\n",
      "kite-walk ----------- 0.555\n",
      "lucia --------------- 0.790\n",
      "mallard-fly --------- 0.469\n",
      "mallard-water ------- 0.069\n",
      "motocross-bumps ----- 0.687\n",
      "motorbike ----------- 0.392\n",
      "paragliding --------- 0.783\n",
      "rhino --------------- 0.645\n",
      "rollerblade --------- 0.748\n",
      "scooter-gray -------- 0.418\n",
      "soccerball ---------- 0.836\n",
      "stroller ------------ 0.174\n",
      "surf ---------------- 0.349\n",
      "swing --------------- 0.762\n",
      "tennis -------------- 0.721\n",
      "train --------------- 0.397\n",
      "\n",
      "\n",
      "MEAN ---------------- 0.527\n"
     ]
    },
    {
     "name": "stderr",
     "output_type": "stream",
     "text": [
      "/home/dbear/tenv/lib/python3.7/site-packages/ipykernel/ipkernel.py:283: DeprecationWarning: `should_run_async` will not call `transform_cell` automatically in the future. Please pass the result to `transformed_cell` argument and any exception that happen during thetransform in `preprocessing_exc_tuple` in IPython 7.17 and above.\n",
      "  and should_run_async(code)\n"
     ]
    }
   ],
   "source": [
    "print(\"===== TRAIN SEQUENCE RESULTS =====\")\n",
    "dataset.split = 'train'\n",
    "width = 20\n",
    "grand_mean = []\n",
    "for nm in sorted(dataset.files.keys()):\n",
    "    print(\"%s %s %.3f\" % (nm, ''.join(['-']*(width - len(nm))), mean_results[nm]))\n",
    "    grand_mean.append(mean_results[nm])\n",
    "dataset.split = 'all'\n",
    "    \n",
    "print(\"\\n\")\n",
    "print(\"%s %s %.3f\" % (\"MEAN\", ''.join(['-']*(width - 4)), np.mean(grand_mean)))"
   ]
  },
  {
   "cell_type": "code",
   "execution_count": 396,
   "id": "2ac185b3",
   "metadata": {},
   "outputs": [
    {
     "name": "stdout",
     "output_type": "stream",
     "text": [
      "===== VAL SEQUENCE RESULTS =====\n",
      "blackswan ----------- 0.281\n",
      "bmx-trees ----------- 0.314\n",
      "breakdance ---------- 0.626\n",
      "camel --------------- 0.732\n",
      "car-roundabout ------ 0.706\n",
      "car-shadow ---------- 0.438\n",
      "cows ---------------- 0.669\n",
      "dance-twirl --------- 0.555\n",
      "dog ----------------- 0.283\n",
      "drift-chicane ------- 0.678\n",
      "drift-straight ------ 0.186\n",
      "goat ---------------- 0.137\n",
      "horsejump-high ------ 0.727\n",
      "kite-surf ----------- 0.300\n",
      "libby --------------- 0.222\n",
      "motocross-jump ------ 0.607\n",
      "paragliding-launch -- 0.582\n",
      "parkour ------------- 0.252\n",
      "scooter-black ------- 0.491\n",
      "soapbox ------------- 0.575\n",
      "\n",
      "\n",
      "MEAN ---------------- 0.468\n"
     ]
    },
    {
     "name": "stderr",
     "output_type": "stream",
     "text": [
      "/home/dbear/tenv/lib/python3.7/site-packages/ipykernel/ipkernel.py:283: DeprecationWarning: `should_run_async` will not call `transform_cell` automatically in the future. Please pass the result to `transformed_cell` argument and any exception that happen during thetransform in `preprocessing_exc_tuple` in IPython 7.17 and above.\n",
      "  and should_run_async(code)\n"
     ]
    }
   ],
   "source": [
    "print(\"===== VAL SEQUENCE RESULTS =====\")\n",
    "dataset.split = 'val'\n",
    "width = 20\n",
    "grand_mean = []\n",
    "for nm in sorted(dataset.files.keys()):\n",
    "    print(\"%s %s %.3f\" % (nm, ''.join(['-']*(width - len(nm))), mean_results[nm]))\n",
    "    grand_mean.append(mean_results[nm])\n",
    "dataset.split = 'all'\n",
    "    \n",
    "print(\"\\n\")\n",
    "print(\"%s %s %.3f\" % (\"MEAN\", ''.join(['-']*(width - 4)), np.mean(grand_mean)))"
   ]
  },
  {
   "cell_type": "code",
   "execution_count": 397,
   "id": "9e834861",
   "metadata": {},
   "outputs": [
    {
     "name": "stdout",
     "output_type": "stream",
     "text": [
      "===== ALL SEQUENCE RESULTS =====\n",
      "bear ---------------- 0.159\n",
      "blackswan ----------- 0.281\n",
      "bmx-bumps ----------- 0.422\n",
      "bmx-trees ----------- 0.314\n",
      "boat ---------------- 0.031\n",
      "breakdance ---------- 0.626\n",
      "breakdance-flare ---- 0.628\n",
      "bus ----------------- 0.738\n",
      "camel --------------- 0.732\n",
      "car-roundabout ------ 0.706\n",
      "car-shadow ---------- 0.438\n",
      "car-turn ------------ 0.615\n",
      "cows ---------------- 0.669\n",
      "dance-jump ---------- 0.557\n",
      "dance-twirl --------- 0.555\n",
      "dog ----------------- 0.283\n",
      "dog-agility --------- 0.182\n",
      "drift-chicane ------- 0.678\n",
      "drift-straight ------ 0.186\n",
      "drift-turn ---------- 0.546\n",
      "elephant ------------ 0.653\n",
      "flamingo ------------ 0.589\n",
      "goat ---------------- 0.137\n",
      "hike ---------------- 0.569\n",
      "hockey -------------- 0.601\n",
      "horsejump-high ------ 0.727\n",
      "horsejump-low ------- 0.724\n",
      "kite-surf ----------- 0.300\n",
      "kite-walk ----------- 0.555\n",
      "libby --------------- 0.222\n",
      "lucia --------------- 0.790\n",
      "mallard-fly --------- 0.469\n",
      "mallard-water ------- 0.069\n",
      "motocross-bumps ----- 0.687\n",
      "motocross-jump ------ 0.607\n",
      "motorbike ----------- 0.392\n",
      "paragliding --------- 0.783\n",
      "paragliding-launch -- 0.582\n",
      "parkour ------------- 0.252\n",
      "rhino --------------- 0.645\n",
      "rollerblade --------- 0.748\n",
      "scooter-black ------- 0.491\n",
      "scooter-gray -------- 0.418\n",
      "soapbox ------------- 0.575\n",
      "soccerball ---------- 0.836\n",
      "stroller ------------ 0.174\n",
      "surf ---------------- 0.349\n",
      "swing --------------- 0.762\n",
      "tennis -------------- 0.721\n",
      "train --------------- 0.397\n",
      "\n",
      "\n",
      "MEAN ---------------- 0.503\n"
     ]
    },
    {
     "name": "stderr",
     "output_type": "stream",
     "text": [
      "/home/dbear/tenv/lib/python3.7/site-packages/ipykernel/ipkernel.py:283: DeprecationWarning: `should_run_async` will not call `transform_cell` automatically in the future. Please pass the result to `transformed_cell` argument and any exception that happen during thetransform in `preprocessing_exc_tuple` in IPython 7.17 and above.\n",
      "  and should_run_async(code)\n"
     ]
    }
   ],
   "source": [
    "print(\"===== ALL SEQUENCE RESULTS =====\")\n",
    "dataset.split = 'all'\n",
    "width = 20\n",
    "grand_mean = []\n",
    "for nm in sorted(dataset.files.keys()):\n",
    "    print(\"%s %s %.3f\" % (nm, ''.join(['-']*(width - len(nm))), mean_results[nm]))\n",
    "    grand_mean.append(mean_results[nm])\n",
    "dataset.split = 'all'\n",
    "    \n",
    "print(\"\\n\")\n",
    "print(\"%s %s %.3f\" % (\"MEAN\", ''.join(['-']*(width - 4)), np.mean(grand_mean)))"
   ]
  },
  {
   "cell_type": "code",
   "execution_count": 405,
   "id": "4e6bca6b",
   "metadata": {},
   "outputs": [
    {
     "name": "stdout",
     "output_type": "stream",
     "text": [
      "===== MOTION SEGMENT ACCURACY =====\n",
      "bear ---------------- 0.311\n",
      "blackswan ----------- 0.238\n",
      "bmx-bumps ----------- 0.233\n",
      "bmx-trees ----------- 0.335\n",
      "boat ---------------- 0.053\n",
      "breakdance ---------- 0.652\n",
      "breakdance-flare ---- 0.623\n",
      "bus ----------------- 0.468\n",
      "camel --------------- 0.772\n",
      "car-roundabout ------ 0.627\n",
      "car-shadow ---------- 0.355\n",
      "car-turn ------------ 0.378\n",
      "cows ---------------- 0.565\n",
      "dance-jump ---------- 0.484\n",
      "dance-twirl --------- 0.554\n",
      "dog ----------------- 0.209\n",
      "dog-agility --------- 0.288\n",
      "drift-chicane ------- 0.574\n",
      "drift-straight ------ 0.196\n",
      "drift-turn ---------- 0.444\n",
      "elephant ------------ 0.524\n",
      "flamingo ------------ 0.361\n",
      "goat ---------------- 0.100\n",
      "hike ---------------- 0.402\n",
      "hockey -------------- 0.479\n",
      "horsejump-high ------ 0.503\n",
      "horsejump-low ------- 0.611\n",
      "kite-surf ----------- 0.159\n",
      "kite-walk ----------- 0.419\n",
      "libby --------------- 0.135\n",
      "lucia --------------- 0.603\n",
      "mallard-fly --------- 0.366\n",
      "mallard-water ------- 0.065\n",
      "motocross-bumps ----- 0.627\n",
      "motocross-jump ------ 0.543\n",
      "motorbike ----------- 0.211\n",
      "paragliding --------- 0.525\n",
      "paragliding-launch -- 0.489\n",
      "parkour ------------- 0.306\n",
      "rhino --------------- 0.650\n",
      "rollerblade --------- 0.544\n",
      "scooter-black ------- 0.312\n",
      "scooter-gray -------- 0.328\n",
      "soapbox ------------- 0.392\n",
      "soccerball ---------- 0.875\n",
      "stroller ------------ 0.180\n",
      "surf ---------------- 0.273\n",
      "swing --------------- 0.452\n",
      "tennis -------------- 0.681\n",
      "train --------------- 0.346\n",
      "\n",
      "\n",
      "MEAN ---------------- 0.416\n"
     ]
    },
    {
     "name": "stderr",
     "output_type": "stream",
     "text": [
      "/home/dbear/tenv/lib/python3.7/site-packages/ipykernel/ipkernel.py:283: DeprecationWarning: `should_run_async` will not call `transform_cell` automatically in the future. Please pass the result to `transformed_cell` argument and any exception that happen during thetransform in `preprocessing_exc_tuple` in IPython 7.17 and above.\n",
      "  and should_run_async(code)\n"
     ]
    }
   ],
   "source": [
    "print(\"===== MOTION SEGMENT ACCURACY =====\")\n",
    "dataset.split = 'all'\n",
    "width = 20\n",
    "grand_mean = []\n",
    "for nm in sorted(dataset.files.keys()):\n",
    "    print(\"%s %s %.3f\" % (nm, ''.join(['-']*(width - len(nm))), mean_target_results[nm]))\n",
    "    grand_mean.append(mean_target_results[nm])\n",
    "dataset.split = 'all'\n",
    "    \n",
    "print(\"\\n\")\n",
    "print(\"%s %s %.3f\" % (\"MEAN\", ''.join(['-']*(width - 4)), np.mean(grand_mean)))"
   ]
  },
  {
   "cell_type": "code",
   "execution_count": 406,
   "id": "48ce1803",
   "metadata": {},
   "outputs": [
    {
     "name": "stdout",
     "output_type": "stream",
     "text": [
      "===== (TARGET - PRED) IOU =====\n",
      "bear ---------------- 0.152\n",
      "blackswan ----------- -0.042\n",
      "bmx-bumps ----------- -0.189\n",
      "bmx-trees ----------- 0.020\n",
      "boat ---------------- 0.022\n",
      "breakdance ---------- 0.026\n",
      "breakdance-flare ---- -0.005\n",
      "bus ----------------- -0.270\n",
      "camel --------------- 0.040\n",
      "car-roundabout ------ -0.079\n",
      "car-shadow ---------- -0.083\n",
      "car-turn ------------ -0.236\n",
      "cows ---------------- -0.104\n",
      "dance-jump ---------- -0.073\n",
      "dance-twirl --------- -0.001\n",
      "dog ----------------- -0.074\n",
      "dog-agility --------- 0.105\n",
      "drift-chicane ------- -0.104\n",
      "drift-straight ------ 0.010\n",
      "drift-turn ---------- -0.102\n",
      "elephant ------------ -0.129\n",
      "flamingo ------------ -0.228\n",
      "goat ---------------- -0.036\n",
      "hike ---------------- -0.167\n",
      "hockey -------------- -0.122\n",
      "horsejump-high ------ -0.224\n",
      "horsejump-low ------- -0.112\n",
      "kite-surf ----------- -0.141\n",
      "kite-walk ----------- -0.136\n",
      "libby --------------- -0.087\n",
      "lucia --------------- -0.187\n",
      "mallard-fly --------- -0.103\n",
      "mallard-water ------- -0.004\n",
      "motocross-bumps ----- -0.060\n",
      "motocross-jump ------ -0.064\n",
      "motorbike ----------- -0.181\n",
      "paragliding --------- -0.259\n",
      "paragliding-launch -- -0.093\n",
      "parkour ------------- 0.054\n",
      "rhino --------------- 0.005\n",
      "rollerblade --------- -0.204\n",
      "scooter-black ------- -0.179\n",
      "scooter-gray -------- -0.090\n",
      "soapbox ------------- -0.183\n",
      "soccerball ---------- 0.039\n",
      "stroller ------------ 0.006\n",
      "surf ---------------- -0.077\n",
      "swing --------------- -0.310\n",
      "tennis -------------- -0.040\n",
      "train --------------- -0.052\n",
      "\n",
      "\n",
      "MEAN ---------------- -0.087\n"
     ]
    },
    {
     "name": "stderr",
     "output_type": "stream",
     "text": [
      "/home/dbear/tenv/lib/python3.7/site-packages/ipykernel/ipkernel.py:283: DeprecationWarning: `should_run_async` will not call `transform_cell` automatically in the future. Please pass the result to `transformed_cell` argument and any exception that happen during thetransform in `preprocessing_exc_tuple` in IPython 7.17 and above.\n",
      "  and should_run_async(code)\n"
     ]
    }
   ],
   "source": [
    "print(\"===== (TARGET - PRED) IOU =====\")\n",
    "dataset.split = 'all'\n",
    "width = 20\n",
    "grand_mean = []\n",
    "for nm in sorted(dataset.files.keys()):\n",
    "    print(\"%s %s %.3f\" % (nm, ''.join(['-']*(width - len(nm))), mean_target_results[nm] - mean_results[nm]))\n",
    "    grand_mean.append(mean_target_results[nm] - mean_results[nm])\n",
    "dataset.split = 'all'\n",
    "    \n",
    "print(\"\\n\")\n",
    "print(\"%s %s %.3f\" % (\"MEAN\", ''.join(['-']*(width - 4)), np.mean(grand_mean)))"
   ]
  },
  {
   "cell_type": "code",
   "execution_count": 411,
   "id": "dc8c68a5",
   "metadata": {},
   "outputs": [
    {
     "name": "stderr",
     "output_type": "stream",
     "text": [
      "/home/dbear/tenv/lib/python3.7/site-packages/ipykernel/ipkernel.py:283: DeprecationWarning: `should_run_async` will not call `transform_cell` automatically in the future. Please pass the result to `transformed_cell` argument and any exception that happen during thetransform in `preprocessing_exc_tuple` in IPython 7.17 and above.\n",
      "  and should_run_async(code)\n"
     ]
    }
   ],
   "source": [
    "# ## save results\n",
    "# import pickle\n",
    "\n",
    "# # !mkdir './results'\n",
    "# with open('./results/davis_miou.pkl', 'wb') as f:\n",
    "#     pickle.dump({'mean_pred': mean_results, 'mean_target': mean_target_results,\n",
    "#                  'per_frame_pred': per_frame_results, 'per_frame_target': per_frame_target_results},\n",
    "#                 f)\n"
   ]
  }
 ],
 "metadata": {
  "kernelspec": {
   "display_name": "Python 3 (ipykernel)",
   "language": "python",
   "name": "python3"
  },
  "language_info": {
   "codemirror_mode": {
    "name": "ipython",
    "version": 3
   },
   "file_extension": ".py",
   "mimetype": "text/x-python",
   "name": "python",
   "nbconvert_exporter": "python",
   "pygments_lexer": "ipython3",
   "version": "3.8.13"
  }
 },
 "nbformat": 4,
 "nbformat_minor": 5
}
